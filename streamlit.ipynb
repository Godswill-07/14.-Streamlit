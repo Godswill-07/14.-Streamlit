{
 "cells": [
  {
   "cell_type": "markdown",
   "id": "aadf5fdc",
   "metadata": {},
   "source": [
    "## Introduction to Streamlit\n",
    "\n",
    "Streamlit is an open-source app framework for Machine Learning and Data Science projects. it allows you to create beautiful web applications for your machine learning and data science projects with simple python scripts"
   ]
  },
  {
   "cell_type": "code",
   "execution_count": null,
   "id": "aa9c90a3",
   "metadata": {
    "vscode": {
     "languageId": "plaintext"
    }
   },
   "outputs": [],
   "source": []
  }
 ],
 "metadata": {
  "language_info": {
   "name": "python"
  }
 },
 "nbformat": 4,
 "nbformat_minor": 5
}
